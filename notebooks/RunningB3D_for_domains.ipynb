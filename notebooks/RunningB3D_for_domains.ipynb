{
 "cells": [
  {
   "cell_type": "code",
   "execution_count": null,
   "id": "4cb89b8b",
   "metadata": {},
   "source": [
    "from barrier3d import Barrier3d\n",
    "from matplotlib import pyplot as plt\n",
    "import numpy as np\n",
    "from cascade.outwasher_reorg_b3d import (\n",
    "    plot_ElevAnimation,\n",
    "    plot_DischargeAnimation,\n",
    "    plot_SlopeAnimation,\n",
    "    plot_Qs2Animation,\n",
    "    plot_SedOutAnimation,\n",
    "    plot_SedInAnimation,\n",
    "    plot_dischargeComp,\n",
    ")\n",
    "\n",
    "b3d = Barrier3d.from_yaml(\"C:/Users/Lexi/PycharmProjects/Barrier3d/tests/test_params/\")\n",
    "\n",
    "path = \"C:/Users/Lexi/Documents/Research/Outwasher/Output/\"\n",
    "runID = \"b3d_domains\"\n",
    "newpath = path + runID + \"/\""
   ],
   "outputs": []
  },
  {
   "cell_type": "code",
   "execution_count": null,
   "id": "abf30e22",
   "metadata": {},
   "source": [
    "elevs = np.zeros(b3d._TMAX)\n",
    "for time_step in range(1, b3d._TMAX):\n",
    "    b3d.update()  # update the model's main time loop\n",
    "    b3d.update_dune_domain()  # now update the dune domain and increase time by one year\n",
    "    int_domain = np.flip(b3d.InteriorDomain)\n",
    "    elevs[time_step] = int_domain\n",
    "    # Print time step to screen\n",
    "    print(\"\\r\", \"Time Step: \", time_step, end=\"\\n\")"
   ],
   "outputs": []
  },
  {
   "cell_type": "code",
   "execution_count": null,
   "id": "ed1b654d",
   "metadata": {},
   "source": [
    "start = 0\n",
    "stop = b3d._Tmax\n",
    "dir = newpath\n",
    "plot_ElevAnimation(elevs, dir, start, stop)"
   ],
   "outputs": []
  }
 ],
 "metadata": {
  "kernelspec": {
   "display_name": "Python 3 (ipykernel)",
   "language": "python",
   "name": "python3"
  },
  "language_info": {
   "codemirror_mode": {
    "name": "ipython",
    "version": 3
   },
   "file_extension": ".py",
   "mimetype": "text/x-python",
   "name": "python",
   "nbconvert_exporter": "python",
   "pygments_lexer": "ipython3",
   "version": "3.8.8"
  }
 },
 "nbformat": 4,
 "nbformat_minor": 5
}
