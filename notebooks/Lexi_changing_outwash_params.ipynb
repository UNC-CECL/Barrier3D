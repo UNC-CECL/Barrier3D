{
 "cells": [
  {
   "cell_type": "markdown",
   "id": "68c50a93",
   "metadata": {},
   "source": [
    "Overwash params included m, n, Kr, and Ki. n is an exponent influencing Qi (discharge). Kr is a constant that influences Qsi (volume of sediment transported) in the run-up overwash regime. Ki and m influence Qsi in the inundation overwash regime."
   ]
  },
  {
   "cell_type": "markdown",
   "id": "9cd509da",
   "metadata": {},
   "source": [
    "First, n was set to 3 different values: 0.3, 0.5, and 0.7. There seemed to be little differences in these changes.\n",
    "\n",
    "<img align=\"left\" width=\"400\" height=\"400\" src=\"nn0.3.png\">  \n",
    "<img align=\"center\" width=\"400\" height=\"400\" src=\"nn0.5.png\">  \n",
    "<img align=\"left\" width=\"400\" height=\"400\" src=\"nn0.7.png\">  "
   ]
  },
  {
   "cell_type": "markdown",
   "id": "7079ccd9",
   "metadata": {},
   "source": [
    "Then, 4 values of m were tried: 1, 2, 5, 10\n",
    "There seemed to be no change at all associated with this value\n",
    "\n",
    "<img align=\"left\" width=\"400\" height=\"400\" src=\"mm1.png\">  \n",
    "<img align=\"center\" width=\"400\" height=\"400\" src=\"mm2.png\">  \n",
    "<img align=\"left\" width=\"400\" height=\"400\" src=\"mm5.png\"> \n",
    "<img align=\"center\" width=\"400\" height=\"400\" src=\"mm10.png\">  "
   ]
  },
  {
   "cell_type": "markdown",
   "id": "c79e8cf5",
   "metadata": {},
   "source": [
    "Then, Kr and Ki were changed. Kr started at 7.5e-5 and Ki started at 7.5e-6. They were both tested at 5 and 10 e-5 and e-6, which are shown below. \n",
    "\n",
    "<img align=\"center\" width=\"400\" height=\"400\" src=\"KrKi_normal.png\"> \n",
    "<img align=\"left\" width=\"400\" height=\"400\" src=\"Kr5.png\"> \n",
    "<img align=\"center\" width=\"400\" height=\"400\" src=\"Kr10.png\">  \n",
    "<img align=\"left\" width=\"400\" height=\"400\" src=\"Ki5.png\"> \n",
    "<img align=\"center\" width=\"400\" height=\"400\" src=\"Ki10.png\">  "
   ]
  },
  {
   "cell_type": "markdown",
   "id": "285f9226",
   "metadata": {},
   "source": [
    "A lower Kr value actually caused more instances of overwash, but at less magnitude whereas a higher Kr value caused less instances but one very large spike in overwash. m and Ki did not change the initial values at all, which probably means that we never reached the inundation regime requirements. "
   ]
  },
  {
   "cell_type": "code",
   "execution_count": null,
   "id": "429a4f3c",
   "metadata": {},
   "outputs": [],
   "source": []
  }
 ],
 "metadata": {
  "kernelspec": {
   "display_name": "Python 3 (ipykernel)",
   "language": "python",
   "name": "python3"
  },
  "language_info": {
   "codemirror_mode": {
    "name": "ipython",
    "version": 3
   },
   "file_extension": ".py",
   "mimetype": "text/x-python",
   "name": "python",
   "nbconvert_exporter": "python",
   "pygments_lexer": "ipython3",
   "version": "3.10.0"
  }
 },
 "nbformat": 4,
 "nbformat_minor": 5
}
