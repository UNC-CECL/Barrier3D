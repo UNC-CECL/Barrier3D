{
 "cells": [
  {
   "cell_type": "markdown",
   "id": "249c12fc",
   "metadata": {},
   "source": [
    "The Barrier3D model is very comlex with many different parts. \"Starter_code_Lexi\" is a file that allows the user to change the variable parameters in Barrier3D as well as creates an instance of a barrier3D model. First, the connection between the barrier3D parameter file must be made. This function `set_yaml` allows the yaml file to be opened and reassigns the current existing variables with the new values (which will be created subsequently). "
   ]
  },
  {
   "cell_type": "code",
   "execution_count": 12,
   "id": "a5bac28d",
   "metadata": {},
   "outputs": [],
   "source": [
    "import os\n",
    "os.getcwd()\n",
    "#os.chdir('..')"
   ]
  },
  {
   "cell_type": "code",
   "execution_count": 16,
   "id": "492c54dd",
   "metadata": {},
   "outputs": [
    {
     "ename": "DistributionNotFound",
     "evalue": "The 'barrier3d' distribution was not found and is required by the application",
     "output_type": "error",
     "traceback": [
      "\u001b[1;31m---------------------------------------------------------------------------\u001b[0m",
      "\u001b[1;31mDistributionNotFound\u001b[0m                      Traceback (most recent call last)",
      "\u001b[1;32m~\\AppData\\Local\\Temp/ipykernel_22948/3440698476.py\u001b[0m in \u001b[0;36m<module>\u001b[1;34m\u001b[0m\n\u001b[0;32m      1\u001b[0m \u001b[1;31m#from yaml import full_load, dump\u001b[0m\u001b[1;33m\u001b[0m\u001b[1;33m\u001b[0m\u001b[0m\n\u001b[1;32m----> 2\u001b[1;33m \u001b[1;32mfrom\u001b[0m \u001b[0mbarrier3d\u001b[0m \u001b[1;32mimport\u001b[0m \u001b[0mBarrier3d\u001b[0m\u001b[1;33m\u001b[0m\u001b[1;33m\u001b[0m\u001b[0m\n\u001b[0m\u001b[0;32m      3\u001b[0m \u001b[1;32mfrom\u001b[0m \u001b[0mscripts\u001b[0m \u001b[1;32mimport\u001b[0m \u001b[0mhelper_functions\u001b[0m\u001b[1;33m\u001b[0m\u001b[1;33m\u001b[0m\u001b[0m\n",
      "\u001b[1;32m~\\PycharmProjects\\Barrier3D\\barrier3d\\__init__.py\u001b[0m in \u001b[0;36m<module>\u001b[1;34m\u001b[0m\n\u001b[0;32m      6\u001b[0m \u001b[1;32mfrom\u001b[0m \u001b[1;33m.\u001b[0m\u001b[0mload_input\u001b[0m \u001b[1;32mimport\u001b[0m \u001b[0mload_inputs\u001b[0m\u001b[1;33m\u001b[0m\u001b[1;33m\u001b[0m\u001b[0m\n\u001b[0;32m      7\u001b[0m \u001b[1;33m\u001b[0m\u001b[0m\n\u001b[1;32m----> 8\u001b[1;33m \u001b[0m__version__\u001b[0m \u001b[1;33m=\u001b[0m \u001b[0mpkg_resources\u001b[0m\u001b[1;33m.\u001b[0m\u001b[0mget_distribution\u001b[0m\u001b[1;33m(\u001b[0m\u001b[1;34m\"barrier3d\"\u001b[0m\u001b[1;33m)\u001b[0m\u001b[1;33m.\u001b[0m\u001b[0mversion\u001b[0m\u001b[1;33m\u001b[0m\u001b[1;33m\u001b[0m\u001b[0m\n\u001b[0m\u001b[0;32m      9\u001b[0m \u001b[0m__all__\u001b[0m \u001b[1;33m=\u001b[0m \u001b[1;33m[\u001b[0m\u001b[1;34m\"Barrier3d\"\u001b[0m\u001b[1;33m,\u001b[0m \u001b[1;34m\"Barrier3dBmi\"\u001b[0m\u001b[1;33m,\u001b[0m \u001b[1;34m\"Barrier3dConfiguration\"\u001b[0m\u001b[1;33m,\u001b[0m \u001b[1;34m\"load_inputs\"\u001b[0m\u001b[1;33m]\u001b[0m\u001b[1;33m\u001b[0m\u001b[1;33m\u001b[0m\u001b[0m\n\u001b[0;32m     10\u001b[0m \u001b[1;33m\u001b[0m\u001b[0m\n",
      "\u001b[1;32m~\\AppData\\Local\\Programs\\Python\\Python310\\lib\\site-packages\\pkg_resources\\__init__.py\u001b[0m in \u001b[0;36mget_distribution\u001b[1;34m(dist)\u001b[0m\n\u001b[0;32m    463\u001b[0m         \u001b[0mdist\u001b[0m \u001b[1;33m=\u001b[0m \u001b[0mRequirement\u001b[0m\u001b[1;33m.\u001b[0m\u001b[0mparse\u001b[0m\u001b[1;33m(\u001b[0m\u001b[0mdist\u001b[0m\u001b[1;33m)\u001b[0m\u001b[1;33m\u001b[0m\u001b[1;33m\u001b[0m\u001b[0m\n\u001b[0;32m    464\u001b[0m     \u001b[1;32mif\u001b[0m \u001b[0misinstance\u001b[0m\u001b[1;33m(\u001b[0m\u001b[0mdist\u001b[0m\u001b[1;33m,\u001b[0m \u001b[0mRequirement\u001b[0m\u001b[1;33m)\u001b[0m\u001b[1;33m:\u001b[0m\u001b[1;33m\u001b[0m\u001b[1;33m\u001b[0m\u001b[0m\n\u001b[1;32m--> 465\u001b[1;33m         \u001b[0mdist\u001b[0m \u001b[1;33m=\u001b[0m \u001b[0mget_provider\u001b[0m\u001b[1;33m(\u001b[0m\u001b[0mdist\u001b[0m\u001b[1;33m)\u001b[0m\u001b[1;33m\u001b[0m\u001b[1;33m\u001b[0m\u001b[0m\n\u001b[0m\u001b[0;32m    466\u001b[0m     \u001b[1;32mif\u001b[0m \u001b[1;32mnot\u001b[0m \u001b[0misinstance\u001b[0m\u001b[1;33m(\u001b[0m\u001b[0mdist\u001b[0m\u001b[1;33m,\u001b[0m \u001b[0mDistribution\u001b[0m\u001b[1;33m)\u001b[0m\u001b[1;33m:\u001b[0m\u001b[1;33m\u001b[0m\u001b[1;33m\u001b[0m\u001b[0m\n\u001b[0;32m    467\u001b[0m         \u001b[1;32mraise\u001b[0m \u001b[0mTypeError\u001b[0m\u001b[1;33m(\u001b[0m\u001b[1;34m\"Expected string, Requirement, or Distribution\"\u001b[0m\u001b[1;33m,\u001b[0m \u001b[0mdist\u001b[0m\u001b[1;33m)\u001b[0m\u001b[1;33m\u001b[0m\u001b[1;33m\u001b[0m\u001b[0m\n",
      "\u001b[1;32m~\\AppData\\Local\\Programs\\Python\\Python310\\lib\\site-packages\\pkg_resources\\__init__.py\u001b[0m in \u001b[0;36mget_provider\u001b[1;34m(moduleOrReq)\u001b[0m\n\u001b[0;32m    339\u001b[0m     \u001b[1;34m\"\"\"Return an IResourceProvider for the named module or requirement\"\"\"\u001b[0m\u001b[1;33m\u001b[0m\u001b[1;33m\u001b[0m\u001b[0m\n\u001b[0;32m    340\u001b[0m     \u001b[1;32mif\u001b[0m \u001b[0misinstance\u001b[0m\u001b[1;33m(\u001b[0m\u001b[0mmoduleOrReq\u001b[0m\u001b[1;33m,\u001b[0m \u001b[0mRequirement\u001b[0m\u001b[1;33m)\u001b[0m\u001b[1;33m:\u001b[0m\u001b[1;33m\u001b[0m\u001b[1;33m\u001b[0m\u001b[0m\n\u001b[1;32m--> 341\u001b[1;33m         \u001b[1;32mreturn\u001b[0m \u001b[0mworking_set\u001b[0m\u001b[1;33m.\u001b[0m\u001b[0mfind\u001b[0m\u001b[1;33m(\u001b[0m\u001b[0mmoduleOrReq\u001b[0m\u001b[1;33m)\u001b[0m \u001b[1;32mor\u001b[0m \u001b[0mrequire\u001b[0m\u001b[1;33m(\u001b[0m\u001b[0mstr\u001b[0m\u001b[1;33m(\u001b[0m\u001b[0mmoduleOrReq\u001b[0m\u001b[1;33m)\u001b[0m\u001b[1;33m)\u001b[0m\u001b[1;33m[\u001b[0m\u001b[1;36m0\u001b[0m\u001b[1;33m]\u001b[0m\u001b[1;33m\u001b[0m\u001b[1;33m\u001b[0m\u001b[0m\n\u001b[0m\u001b[0;32m    342\u001b[0m     \u001b[1;32mtry\u001b[0m\u001b[1;33m:\u001b[0m\u001b[1;33m\u001b[0m\u001b[1;33m\u001b[0m\u001b[0m\n\u001b[0;32m    343\u001b[0m         \u001b[0mmodule\u001b[0m \u001b[1;33m=\u001b[0m \u001b[0msys\u001b[0m\u001b[1;33m.\u001b[0m\u001b[0mmodules\u001b[0m\u001b[1;33m[\u001b[0m\u001b[0mmoduleOrReq\u001b[0m\u001b[1;33m]\u001b[0m\u001b[1;33m\u001b[0m\u001b[1;33m\u001b[0m\u001b[0m\n",
      "\u001b[1;32m~\\AppData\\Local\\Programs\\Python\\Python310\\lib\\site-packages\\pkg_resources\\__init__.py\u001b[0m in \u001b[0;36mrequire\u001b[1;34m(self, *requirements)\u001b[0m\n\u001b[0;32m    882\u001b[0m         \u001b[0mincluded\u001b[0m\u001b[1;33m,\u001b[0m \u001b[0meven\u001b[0m \u001b[1;32mif\u001b[0m \u001b[0mthey\u001b[0m \u001b[0mwere\u001b[0m \u001b[0malready\u001b[0m \u001b[0mactivated\u001b[0m \u001b[1;32min\u001b[0m \u001b[0mthis\u001b[0m \u001b[0mworking\u001b[0m \u001b[0mset\u001b[0m\u001b[1;33m.\u001b[0m\u001b[1;33m\u001b[0m\u001b[1;33m\u001b[0m\u001b[0m\n\u001b[0;32m    883\u001b[0m         \"\"\"\n\u001b[1;32m--> 884\u001b[1;33m         \u001b[0mneeded\u001b[0m \u001b[1;33m=\u001b[0m \u001b[0mself\u001b[0m\u001b[1;33m.\u001b[0m\u001b[0mresolve\u001b[0m\u001b[1;33m(\u001b[0m\u001b[0mparse_requirements\u001b[0m\u001b[1;33m(\u001b[0m\u001b[0mrequirements\u001b[0m\u001b[1;33m)\u001b[0m\u001b[1;33m)\u001b[0m\u001b[1;33m\u001b[0m\u001b[1;33m\u001b[0m\u001b[0m\n\u001b[0m\u001b[0;32m    885\u001b[0m \u001b[1;33m\u001b[0m\u001b[0m\n\u001b[0;32m    886\u001b[0m         \u001b[1;32mfor\u001b[0m \u001b[0mdist\u001b[0m \u001b[1;32min\u001b[0m \u001b[0mneeded\u001b[0m\u001b[1;33m:\u001b[0m\u001b[1;33m\u001b[0m\u001b[1;33m\u001b[0m\u001b[0m\n",
      "\u001b[1;32m~\\AppData\\Local\\Programs\\Python\\Python310\\lib\\site-packages\\pkg_resources\\__init__.py\u001b[0m in \u001b[0;36mresolve\u001b[1;34m(self, requirements, env, installer, replace_conflicting, extras)\u001b[0m\n\u001b[0;32m    768\u001b[0m                     \u001b[1;32mif\u001b[0m \u001b[0mdist\u001b[0m \u001b[1;32mis\u001b[0m \u001b[1;32mNone\u001b[0m\u001b[1;33m:\u001b[0m\u001b[1;33m\u001b[0m\u001b[1;33m\u001b[0m\u001b[0m\n\u001b[0;32m    769\u001b[0m                         \u001b[0mrequirers\u001b[0m \u001b[1;33m=\u001b[0m \u001b[0mrequired_by\u001b[0m\u001b[1;33m.\u001b[0m\u001b[0mget\u001b[0m\u001b[1;33m(\u001b[0m\u001b[0mreq\u001b[0m\u001b[1;33m,\u001b[0m \u001b[1;32mNone\u001b[0m\u001b[1;33m)\u001b[0m\u001b[1;33m\u001b[0m\u001b[1;33m\u001b[0m\u001b[0m\n\u001b[1;32m--> 770\u001b[1;33m                         \u001b[1;32mraise\u001b[0m \u001b[0mDistributionNotFound\u001b[0m\u001b[1;33m(\u001b[0m\u001b[0mreq\u001b[0m\u001b[1;33m,\u001b[0m \u001b[0mrequirers\u001b[0m\u001b[1;33m)\u001b[0m\u001b[1;33m\u001b[0m\u001b[1;33m\u001b[0m\u001b[0m\n\u001b[0m\u001b[0;32m    771\u001b[0m                 \u001b[0mto_activate\u001b[0m\u001b[1;33m.\u001b[0m\u001b[0mappend\u001b[0m\u001b[1;33m(\u001b[0m\u001b[0mdist\u001b[0m\u001b[1;33m)\u001b[0m\u001b[1;33m\u001b[0m\u001b[1;33m\u001b[0m\u001b[0m\n\u001b[0;32m    772\u001b[0m             \u001b[1;32mif\u001b[0m \u001b[0mdist\u001b[0m \u001b[1;32mnot\u001b[0m \u001b[1;32min\u001b[0m \u001b[0mreq\u001b[0m\u001b[1;33m:\u001b[0m\u001b[1;33m\u001b[0m\u001b[1;33m\u001b[0m\u001b[0m\n",
      "\u001b[1;31mDistributionNotFound\u001b[0m: The 'barrier3d' distribution was not found and is required by the application"
     ]
    }
   ],
   "source": [
    "#from yaml import full_load, dump\n",
    "from barrier3d import Barrier3d\n",
    "from scripts import helper_functions "
   ]
  },
  {
   "cell_type": "markdown",
   "id": "08dcee04",
   "metadata": {},
   "source": [
    "The next segment of code shows the function `set_barrier3d_yaml` which contains all the new variable names and assigns their values. This is most important for its use later. "
   ]
  },
  {
   "cell_type": "code",
   "execution_count": 3,
   "id": "1e6dfb07",
   "metadata": {},
   "outputs": [
    {
     "ename": "NameError",
     "evalue": "name 'set_barrier3d_yaml' is not defined",
     "output_type": "error",
     "traceback": [
      "\u001b[1;31m---------------------------------------------------------------------------\u001b[0m",
      "\u001b[1;31mNameError\u001b[0m                                 Traceback (most recent call last)",
      "\u001b[1;32m~\\AppData\\Local\\Temp/ipykernel_22948/3866511790.py\u001b[0m in \u001b[0;36m<module>\u001b[1;34m\u001b[0m\n\u001b[0;32m      1\u001b[0m \u001b[1;31m# yaml variables that will be changed from this code (all of them included)\u001b[0m\u001b[1;33m\u001b[0m\u001b[1;33m\u001b[0m\u001b[0m\n\u001b[1;32m----> 2\u001b[1;33m set_barrier3d_yaml(\n\u001b[0m\u001b[0;32m      3\u001b[0m \u001b[0mdatadir\u001b[0m\u001b[1;33m=\u001b[0m\u001b[1;34m\"tests/test_params/\"\u001b[0m\u001b[1;33m,\u001b[0m\u001b[1;33m\u001b[0m\u001b[1;33m\u001b[0m\u001b[0m\n\u001b[0;32m      4\u001b[0m \u001b[0mparameter_file\u001b[0m\u001b[1;33m=\u001b[0m\u001b[1;34m\"barrier3d-parameters.yaml\"\u001b[0m\u001b[1;33m,\u001b[0m\u001b[1;33m\u001b[0m\u001b[1;33m\u001b[0m\u001b[0m\n\u001b[0;32m      5\u001b[0m \u001b[0melevation_file\u001b[0m\u001b[1;33m=\u001b[0m\u001b[1;34m\"InitElevHog.npy\"\u001b[0m\u001b[1;33m,\u001b[0m\u001b[1;33m\u001b[0m\u001b[1;33m\u001b[0m\u001b[0m\n",
      "\u001b[1;31mNameError\u001b[0m: name 'set_barrier3d_yaml' is not defined"
     ]
    }
   ],
   "source": [
    "# yaml variables that will be changed from this code (all of them included)\n",
    "set_barrier3d_yaml(\n",
    "datadir=\"tests/test_params/\",\n",
    "parameter_file=\"barrier3d-parameters.yaml\",\n",
    "elevation_file=\"InitElevHog.npy\",\n",
    "dune_file=\"DuneStart_1000dam.npy\",\n",
    "storm_file=\"StormTimeSeries_1000yr.npy\",\n",
    "shrub_on=0,\n",
    "tmax=100,\n",
    "storm_start=2,\n",
    "barrier_len=500.0,\n",
    "dune_width=20.0,\n",
    "L_shoreface=500.0,\n",
    "D_shoreface=10.0,\n",
    "bay_depth=3.0,\n",
    "MHW=0.46,\n",
    "dune_param_start=True,\n",
    "D_start=0.5,\n",
    "berm_el=1.9,\n",
    "growth_param_start=True,\n",
    "rmin=0.35,\n",
    "rmax=0.85,\n",
    "Hd_diffu=0.75,\n",
    "D_max_el=3.4,\n",
    "C1=8.8,\n",
    "C2=4.6,\n",
    "dune_restart=0.075,\n",
    "Rat=0.0,\n",
    "SLR_constant=True,\n",
    "SLR_const=0.004,\n",
    "beta=0.04,\n",
    "# storm_series=[],\n",
    "nn=0.5,\n",
    "mm=2.0,\n",
    "Rin_r=2.0,\n",
    "Rin_i=0.1,\n",
    "Qs_min=1.0,\n",
    "max_up_slope=0.25,\n",
    "threshold_in=0.25,\n",
    "kr=0.000075,\n",
    "ki=0.0000075,\n",
    "Cbb_r=0.7,\n",
    "Cbb_i=0.85,\n",
    "Qs_bb_min=1,\n",
    "Cx=10.0,\n",
    "OWss_i=2,\n",
    "OWss_r=1,\n",
    "k_sf=5000.0,\n",
    "s_sf_eq=0.02,\n",
    "seed_min=100.0,\n",
    "seed_max=1000.0,\n",
    "disp_mu=-0.721891,\n",
    "disp_sigma=1.5,\n",
    "D_shrub=2.75,\n",
    "germ_rate=0.6,\n",
    "time_fruit=5.0,\n",
    "female=0.5,\n",
    "shrub_el_min=1.2,\n",
    "shrub_el_max=2.3,\n",
    "spray_dist=170,\n",
    "burial_limit=0.75,\n",
    "uproot_limit=-0.2,\n",
    "saline_limit=5,\n",
    "Qshrub_max=0.15,\n",
    "max_shrub_height=5.3,\n",
    "shoreface_toe=0,\n",
    "seeded_RNG=True,\n",
    ")"
   ]
  },
  {
   "cell_type": "markdown",
   "id": "6d58a1b7",
   "metadata": {},
   "source": [
    "Here are descriptions of each variable:"
   ]
  },
  {
   "cell_type": "markdown",
   "id": "66cf4b2a",
   "metadata": {},
   "source": [
    "    Args:\n",
    "        datadir:                Location of the parameter files\n",
    "        parameter_file:         yaml file that contains the variables\n",
    "        elevation_file:         File that contains the initial elevation data\n",
    "        dune_file:              File that contains the dune data\n",
    "        storm_file:             File that contains storm data\n",
    "        shrub_on:               Turns shrubs on and off (0 off, 1 on); make sure they are off\n",
    "        tmax:                   [y] Duration of simulation\n",
    "        storm_start:            [y] Year when storm can start occurring (NOTE: if changed, need new storm time series)\n",
    "        barrier_len:            [m] Static length (alongshore) of island segment (comprised of 10x10 cells)\n",
    "        dune_width:             [m] Width (cross-shore) of island dune field\n",
    "        L_shoreface:            [m] Initial length of shoreface\n",
    "        D_shoreface:            [m] Height of shoreface\n",
    "        bay_depth:              [m] Depth of bay behind island segment\n",
    "        MHW:                    [m NAVD88] Elevation of Mean High Water (NOTE: if changed, need new storm time series)\n",
    "        dune_param_start:       Dune height will come from external file (True/False)\n",
    "        D_start:                [m] Initial height of dune domain above berm elevation\n",
    "        berm_el:                (NOTE: if BermEl is changed, the MSSM storm list and storm time series needs to be remade)\n",
    "        growth_param_start:     Dune growth parameter will come from external file (True/False)\n",
    "        rmin:                   Minimum growth rate for logistic dune growth\n",
    "        rmax:                   Maximum growth rate for logistic dune growth\n",
    "        Hd_diffu:               Dune diffusion parameter (i.e. max height offset between adjacent dune cells)\n",
    "        D_max_el:               [m NAVD88] Maximum elevation of dunes\n",
    "        C1:                     [m] Empirical dune erosion parameter\n",
    "        C2:                     [m] Empirical dune erosion parameter\n",
    "        dune_restart:           [m] Restart height for dunes lowered to essentially zero\n",
    "        Rat:                    [m / y] Rate of shoreline retreat attributed to alongshore transport; (-) = erosion, (+) = accretion\n",
    "        SLR_constant:           Relative sea-level rise rate will be constant, otherwise logistic growth function used for time series (True/False)\n",
    "        SLR_const:              [m / y] Relative sea-level rise rate\n",
    "        beta:                   Beach slope for runup calculations\n",
    "        storm_series:           Time series of storms\n",
    "        nn:                     Flow routing constant\n",
    "        mm:                     Exponent constant for sediment transport\n",
    "        Rin_r:                  Run-up regime infiltration rate (volume of overwash flow lost per m cross-shore per time step)\n",
    "        Rin_i:                  Inundation regime infiltration rate (volume of overwash flow lost per m cross-shore per time step)\n",
    "        Qs_min:                 [m^3 / hr] Minimum discharge needed for sediment transport\n",
    "        max_up_slope:           Maximum slope water can flow upward\n",
    "        threshold_in:           [m^3 / hr] Threshold to determine if in inundation regime\n",
    "        kr:                     Sediment flux constant, run-up regime\n",
    "        ki:                     Sediment flux constant, inundation regime\n",
    "        Cbb_r:                  Coefficient for exponential decay of sediment load entering back-barrier bay in run-up regime\n",
    "        Cbb_i:                  Coefficient for exponential decay of sediment load entering back-barrier bay in inundation regime\n",
    "        Qs_bb_min:              [m^3 / hr] Minimum sediment flux in back-barrier bay (below which sediment won't flux)\n",
    "        Cx:                     Multiplier with the average slope of the interior for constant \"C\" in inundation transport rule\n",
    "        OWss_i:                 Overwash substep\n",
    "        OWss_r:                 Overwash substep\n",
    "        k_sf:                   [m^3 / m / y] Shoreface flux rate constant\n",
    "        s_sf_eq:                Equilibrium shoreface slope\n",
    "        seed_min:               [1 / yr] Seeds produced per shrub per year (fecundity)\n",
    "        seed_max:               [1 / yr] Seeds produced per shrub per year (fecundity)\n",
    "        disp_mu:                For lognormal probability distribution of seed dispersal distance\n",
    "        disp_sigma:             For lognormal probability distribution of seed dispersal distance\n",
    "        D_shrub:                [m] Minimum elevation of fronting dune for shrub growth\n",
    "        germ_rate:              Germination rate\n",
    "        time_fruit:             [yr] Age shrubs need to be before they start fruiting\n",
    "        female:                 Percentage of shrubs that are female\n",
    "        shrub_el_min:           [m NAVD88] Elevation range for shrub growth, minimum bound\n",
    "        shrub_el_max:           [m NAVD88] Elevation range for shrub growth, maximum bound\n",
    "        spray_dist:             [m] Distance from ocean shoreline that shrubs can establish\n",
    "        burial_limit:           [m] Maximum percentage of height that a shrub can be buried up to before dying\n",
    "        uproot_limit:           [m] Shrubs eroded beyond this limit killed\n",
    "        saline_limit:           [m^3 / hr] Dishcharge limit to determine shrub mortality via saline flooding\n",
    "        Qshrub_max:             Maximum percentage of overwash reduction through a shrub cell with full percent cover\n",
    "        max_shrub_height:       [m] Maximum shrub height\n",
    "        shoreface_toe:          [m] Start location of shoreface toe\n",
    "        seeded_RNG:             Use seeded random number generator for reproducibility (True/False)\n",
    "\n",
    "    Returns:\n",
    "        nothing -- but modifies the yaml Barrier3D input file"
   ]
  },
  {
   "cell_type": "markdown",
   "id": "e681a180",
   "metadata": {},
   "source": [
    "After establishing each new variable, the user can enter each into the `set_yaml` function to officially make the changes to the Barrier3D parameter file. The first input is the existing variable name in the yaml file and must be exactly the same as it is in the parameter file. The second input is the new value name, which is what was just defined in the `set_barrier3d_yaml` function. `fid` is the directory location of the yaml file, which in this case is \"tests/test_params/barrier3d-parameters.yaml\" which has been previously defined as `datadir` and `parameter file`"
   ]
  },
  {
   "cell_type": "markdown",
   "id": "c05c94f7",
   "metadata": {},
   "source": [
    "Now that the parameter files have been set with the new values, the `set_barrier3d_yaml` function can be used in conjuction with a new function to create a Barrier3D model. The function below `run_changing_dune_params(datadir, parameter_file, rmin, rmax)` takes inputs: datadir, parameter_file, rmin, rmax. These variables are then assigned the same values from the `set_barrier3d_yaml` function. \n",
    "\n",
    "Then, a new instance of the Barrier3d model is created using the actual Barrier3d class `a_barrier3d_model = Barrier3d.from_yaml(datadir)`. \n",
    "\n",
    "Lastly, the model is updated in time and the function `run_changing_dune_params` returns `a_barrier3d_model'"
   ]
  },
  {
   "cell_type": "code",
   "execution_count": 24,
   "id": "02a038e9",
   "metadata": {},
   "outputs": [
    {
     "ename": "NameError",
     "evalue": "name 'set_barrier3d_yaml' is not defined",
     "output_type": "error",
     "traceback": [
      "\u001b[1;31m---------------------------------------------------------------------------\u001b[0m",
      "\u001b[1;31mNameError\u001b[0m                                 Traceback (most recent call last)",
      "\u001b[1;32m~\\AppData\\Local\\Temp/ipykernel_11152/4062553850.py\u001b[0m in \u001b[0;36m<module>\u001b[1;34m\u001b[0m\n\u001b[0;32m     20\u001b[0m \u001b[0mdatadir\u001b[0m \u001b[1;33m=\u001b[0m \u001b[1;34m\"tests/test_params/\"\u001b[0m\u001b[1;33m\u001b[0m\u001b[1;33m\u001b[0m\u001b[0m\n\u001b[0;32m     21\u001b[0m \u001b[0mparameter_file\u001b[0m \u001b[1;33m=\u001b[0m \u001b[1;34m\"barrier3d-parameters.yaml\"\u001b[0m\u001b[1;33m\u001b[0m\u001b[1;33m\u001b[0m\u001b[0m\n\u001b[1;32m---> 22\u001b[1;33m a_barrier3d_model = run_changing_dune_params(\n\u001b[0m\u001b[0;32m     23\u001b[0m     \u001b[0mdatadir\u001b[0m\u001b[1;33m=\u001b[0m\u001b[0mdatadir\u001b[0m\u001b[1;33m,\u001b[0m\u001b[1;33m\u001b[0m\u001b[1;33m\u001b[0m\u001b[0m\n\u001b[0;32m     24\u001b[0m     \u001b[0mparameter_file\u001b[0m\u001b[1;33m=\u001b[0m\u001b[0mparameter_file\u001b[0m\u001b[1;33m,\u001b[0m\u001b[1;33m\u001b[0m\u001b[1;33m\u001b[0m\u001b[0m\n",
      "\u001b[1;32m~\\AppData\\Local\\Temp/ipykernel_11152/4062553850.py\u001b[0m in \u001b[0;36mrun_changing_dune_params\u001b[1;34m(datadir, parameter_file, rmin, rmax)\u001b[0m\n\u001b[0;32m      2\u001b[0m \u001b[1;32mdef\u001b[0m \u001b[0mrun_changing_dune_params\u001b[0m\u001b[1;33m(\u001b[0m\u001b[0mdatadir\u001b[0m\u001b[1;33m,\u001b[0m \u001b[0mparameter_file\u001b[0m\u001b[1;33m,\u001b[0m \u001b[0mrmin\u001b[0m\u001b[1;33m,\u001b[0m \u001b[0mrmax\u001b[0m\u001b[1;33m)\u001b[0m\u001b[1;33m:\u001b[0m\u001b[1;33m\u001b[0m\u001b[1;33m\u001b[0m\u001b[0m\n\u001b[0;32m      3\u001b[0m     \u001b[1;31m# note to Lexi: since these were out of order, you needed to specify the variable name they correspond with!\u001b[0m\u001b[1;33m\u001b[0m\u001b[1;33m\u001b[0m\u001b[1;33m\u001b[0m\u001b[0m\n\u001b[1;32m----> 4\u001b[1;33m     set_barrier3d_yaml(\n\u001b[0m\u001b[0;32m      5\u001b[0m         \u001b[0mrmin\u001b[0m\u001b[1;33m=\u001b[0m\u001b[0mrmin\u001b[0m\u001b[1;33m,\u001b[0m \u001b[0mrmax\u001b[0m\u001b[1;33m=\u001b[0m\u001b[0mrmax\u001b[0m\u001b[1;33m,\u001b[0m \u001b[0mdatadir\u001b[0m\u001b[1;33m=\u001b[0m\u001b[0mdatadir\u001b[0m\u001b[1;33m,\u001b[0m \u001b[0mparameter_file\u001b[0m\u001b[1;33m=\u001b[0m\u001b[0mparameter_file\u001b[0m\u001b[1;33m\u001b[0m\u001b[1;33m\u001b[0m\u001b[0m\n\u001b[0;32m      6\u001b[0m     )\n",
      "\u001b[1;31mNameError\u001b[0m: name 'set_barrier3d_yaml' is not defined"
     ]
    }
   ],
   "source": [
    "# example run file (changing 1 parameter in a Barrier 3D run)\n",
    "run_changing_dune_params(datadir, parameter_file, rmin, rmax):\n",
    "    # note to Lexi: since these were out of order, you needed to specify the variable name they correspond with!\n",
    "    set_barrier3d_yaml(\n",
    "        rmin=rmin, rmax=rmax, datadir=datadir, parameter_file=parameter_file\n",
    "    )\n",
    "    a_barrier3d_model = Barrier3d.from_yaml(datadir)\n",
    "\n",
    "    # increase time step\n",
    "    for time_step in range(1, a_barrier3d_model._TMAX):\n",
    "        a_barrier3d_model.update()  # update the model's main time loop\n",
    "        a_barrier3d_model.update_dune_domain()  # now update the dune domain and increase time by one year\n",
    "\n",
    "        # Print time step to screen\n",
    "        print(\"\\r\", \"Time Step: \", time_step, end=\"\")\n",
    "\n",
    "    return a_barrier3d_model\n"
   ]
  },
  {
   "cell_type": "markdown",
   "id": "5460af93",
   "metadata": {},
   "source": [
    "Here is an example of using the `run_changing_dune_params' function"
   ]
  },
  {
   "cell_type": "code",
   "execution_count": 26,
   "id": "8ef5042b",
   "metadata": {},
   "outputs": [
    {
     "ename": "NameError",
     "evalue": "name 'set_barrier3d_yaml' is not defined",
     "output_type": "error",
     "traceback": [
      "\u001b[1;31m---------------------------------------------------------------------------\u001b[0m",
      "\u001b[1;31mNameError\u001b[0m                                 Traceback (most recent call last)",
      "\u001b[1;32m~\\AppData\\Local\\Temp/ipykernel_11152/3276843545.py\u001b[0m in \u001b[0;36m<module>\u001b[1;34m\u001b[0m\n\u001b[0;32m      2\u001b[0m \u001b[0mdatadir\u001b[0m \u001b[1;33m=\u001b[0m \u001b[1;34m\"tests/test_params/\"\u001b[0m\u001b[1;33m\u001b[0m\u001b[1;33m\u001b[0m\u001b[0m\n\u001b[0;32m      3\u001b[0m \u001b[0mparameter_file\u001b[0m \u001b[1;33m=\u001b[0m \u001b[1;34m\"barrier3d-parameters.yaml\"\u001b[0m\u001b[1;33m\u001b[0m\u001b[1;33m\u001b[0m\u001b[0m\n\u001b[1;32m----> 4\u001b[1;33m a_barrier3d_model = run_changing_dune_params(\n\u001b[0m\u001b[0;32m      5\u001b[0m     \u001b[0mdatadir\u001b[0m\u001b[1;33m=\u001b[0m\u001b[0mdatadir\u001b[0m\u001b[1;33m,\u001b[0m\u001b[1;33m\u001b[0m\u001b[1;33m\u001b[0m\u001b[0m\n\u001b[0;32m      6\u001b[0m     \u001b[0mparameter_file\u001b[0m\u001b[1;33m=\u001b[0m\u001b[0mparameter_file\u001b[0m\u001b[1;33m,\u001b[0m\u001b[1;33m\u001b[0m\u001b[1;33m\u001b[0m\u001b[0m\n",
      "\u001b[1;32m~\\AppData\\Local\\Temp/ipykernel_11152/4062553850.py\u001b[0m in \u001b[0;36mrun_changing_dune_params\u001b[1;34m(datadir, parameter_file, rmin, rmax)\u001b[0m\n\u001b[0;32m      2\u001b[0m \u001b[1;32mdef\u001b[0m \u001b[0mrun_changing_dune_params\u001b[0m\u001b[1;33m(\u001b[0m\u001b[0mdatadir\u001b[0m\u001b[1;33m,\u001b[0m \u001b[0mparameter_file\u001b[0m\u001b[1;33m,\u001b[0m \u001b[0mrmin\u001b[0m\u001b[1;33m,\u001b[0m \u001b[0mrmax\u001b[0m\u001b[1;33m)\u001b[0m\u001b[1;33m:\u001b[0m\u001b[1;33m\u001b[0m\u001b[1;33m\u001b[0m\u001b[0m\n\u001b[0;32m      3\u001b[0m     \u001b[1;31m# note to Lexi: since these were out of order, you needed to specify the variable name they correspond with!\u001b[0m\u001b[1;33m\u001b[0m\u001b[1;33m\u001b[0m\u001b[1;33m\u001b[0m\u001b[0m\n\u001b[1;32m----> 4\u001b[1;33m     set_barrier3d_yaml(\n\u001b[0m\u001b[0;32m      5\u001b[0m         \u001b[0mrmin\u001b[0m\u001b[1;33m=\u001b[0m\u001b[0mrmin\u001b[0m\u001b[1;33m,\u001b[0m \u001b[0mrmax\u001b[0m\u001b[1;33m=\u001b[0m\u001b[0mrmax\u001b[0m\u001b[1;33m,\u001b[0m \u001b[0mdatadir\u001b[0m\u001b[1;33m=\u001b[0m\u001b[0mdatadir\u001b[0m\u001b[1;33m,\u001b[0m \u001b[0mparameter_file\u001b[0m\u001b[1;33m=\u001b[0m\u001b[0mparameter_file\u001b[0m\u001b[1;33m\u001b[0m\u001b[1;33m\u001b[0m\u001b[0m\n\u001b[0;32m      6\u001b[0m     )\n",
      "\u001b[1;31mNameError\u001b[0m: name 'set_barrier3d_yaml' is not defined"
     ]
    }
   ],
   "source": [
    "# and example call to the above functions\n",
    "datadir = \"tests/test_params/\"\n",
    "parameter_file = \"barrier3d-parameters.yaml\"\n",
    "a_barrier3d_model = run_changing_dune_params(\n",
    "    datadir=datadir,\n",
    "    parameter_file=parameter_file,\n",
    "    rmin=0.45,\n",
    "    rmax=0.85,\n",
    ")"
   ]
  },
  {
   "cell_type": "code",
   "execution_count": 5,
   "id": "1e39d6d4",
   "metadata": {},
   "outputs": [
    {
     "name": "stdout",
     "output_type": "stream",
     "text": [
      "[1 2 3 4 5 6]\n"
     ]
    }
   ],
   "source": [
    "import numpy as np\n",
    "list1 = [[1, 2], [3, 4]]\n",
    "list2 = [5, 6]\n",
    "list3 = np.append(list1,list2)\n",
    "print(list3)"
   ]
  },
  {
   "cell_type": "code",
   "execution_count": null,
   "id": "e625a591",
   "metadata": {},
   "outputs": [],
   "source": []
  }
 ],
 "metadata": {
  "kernelspec": {
   "display_name": "Python 3 (ipykernel)",
   "language": "python",
   "name": "python3"
  },
  "language_info": {
   "codemirror_mode": {
    "name": "ipython",
    "version": 3
   },
   "file_extension": ".py",
   "mimetype": "text/x-python",
   "name": "python",
   "nbconvert_exporter": "python",
   "pygments_lexer": "ipython3",
   "version": "3.10.0"
  }
 },
 "nbformat": 4,
 "nbformat_minor": 5
}
